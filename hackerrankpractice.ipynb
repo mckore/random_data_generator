{
 "cells": [
  {
   "cell_type": "code",
   "execution_count": 25,
   "metadata": {},
   "outputs": [],
   "source": [
    "import math\n",
    "import os\n",
    "import random\n",
    "import re\n",
    "import sys"
   ]
  },
  {
   "cell_type": "code",
   "execution_count": 26,
   "metadata": {},
   "outputs": [],
   "source": [
    "def int_test(number:int):\n",
    "    if number not in range(1,100):\n",
    "        print(f'{number} out of range') \n",
    "    elif (number%2)!= 0 or (number%2)==0 and number in range(6,20):\n",
    "        print(f'{number} is Weird')\n",
    "    elif (number%2) == 0 and number in range(2,5) or number > 20:\n",
    "        print(f'{number} is not Weird')\n"
   ]
  },
  {
   "cell_type": "code",
   "execution_count": 27,
   "metadata": {},
   "outputs": [
    {
     "data": {
      "text/plain": [
       "{2, 3, 4, 5}"
      ]
     },
     "execution_count": 27,
     "metadata": {},
     "output_type": "execute_result"
    }
   ],
   "source": [
    "set(range(2,6))"
   ]
  },
  {
   "cell_type": "code",
   "execution_count": 28,
   "metadata": {},
   "outputs": [],
   "source": [
    "def int_test2(number:int):\n",
    "        n = number\n",
    "        check = {True: \"Not Weird\", False: \"Weird\"}\n",
    "\n",
    "        print(check[\n",
    "                n%2==0 and (\n",
    "                n in range(2,6) or \n",
    "                n > 20)\n",
    "        ])"
   ]
  },
  {
   "cell_type": "code",
   "execution_count": null,
   "metadata": {},
   "outputs": [],
   "source": [
    "a = 1\n",
    "b = 2\n",
    "if a and b in range(1,int(10e10)):\n",
    "    print(f'{a+b}\\n{a-b}\\n{a*b}')"
   ]
  },
  {
   "cell_type": "markdown",
   "metadata": {},
   "source": [
    "Notes: \n",
    "Improve instantiation with position arguments and formatting"
   ]
  },
  {
   "cell_type": "code",
   "execution_count": null,
   "metadata": {},
   "outputs": [],
   "source": [
    "print('{0} \\n{1} \\n{2}'.format((a + b), (a - b), (a * b)))"
   ]
  },
  {
   "cell_type": "markdown",
   "metadata": {},
   "source": [
    "Notes: \n",
    "a/b = returns a float data type \n",
    "a//b = returns an integer data type"
   ]
  },
  {
   "cell_type": "code",
   "execution_count": null,
   "metadata": {},
   "outputs": [],
   "source": [
    "a = 4\n",
    "b = 3\n",
    "\n",
    "print('{0}\\n{1}'.format((a//b), (a/b)))"
   ]
  },
  {
   "cell_type": "code",
   "execution_count": null,
   "metadata": {},
   "outputs": [],
   "source": [
    "n = 3 \n",
    "\n",
    "#get list of non-neg integers \n",
    "listy = [i for i in range(n)]\n",
    "# print(listy)\n",
    "#print sq of each number on list \n",
    "for element in range(n):\n",
    "    print(element**2)\n",
    "print(*[num**2 for num in range(n)], sep='\\n')"
   ]
  },
  {
   "cell_type": "code",
   "execution_count": null,
   "metadata": {},
   "outputs": [],
   "source": [
    "print(*[num**2 for num in range(n)], sep='\\n')"
   ]
  },
  {
   "cell_type": "code",
   "execution_count": null,
   "metadata": {},
   "outputs": [],
   "source": [
    "#Use function to identify leap year\n",
    "def is_leap(year):\n",
    "    return year % 4 == 0 and (year % 400 == 0 or year % 100 != 0)\n",
    "\n",
    "year = 1990\n",
    "print(is_leap(year))"
   ]
  },
  {
   "cell_type": "code",
   "execution_count": null,
   "metadata": {},
   "outputs": [],
   "source": [
    "num = 3\n",
    "\n",
    "y = [x for x in range(1,num+1)]\n",
    "print(*y, sep='')\n",
    "print(*range(1, int(num)+1), sep='')"
   ]
  },
  {
   "cell_type": "code",
   "execution_count": null,
   "metadata": {},
   "outputs": [
    {
     "name": "stdout",
     "output_type": "stream",
     "text": [
      "2\n"
     ]
    }
   ],
   "source": [
    "x, y, z, n = 2, 2, 2, 2\n",
    "\n",
    "x, y, z, n = (int(2) for _ in range(4))\n",
    "#list [[x,y,z], [], []"
   ]
  },
  {
   "cell_type": "code",
   "execution_count": null,
   "metadata": {},
   "outputs": [
    {
     "name": "stdout",
     "output_type": "stream",
     "text": [
      "Stuart 12\n"
     ]
    }
   ],
   "source": [
    "#Minion Problem\n",
    "s = 'BANANA'\n",
    "vowels = 'AEIOU'\n",
    "\n",
    "player1, player2 = 0,0\n",
    "\n",
    "\n",
    "for i in range(len(s)):\n",
    "    if s[i] in vowels:\n",
    "        player1 += (len(s)-i)\n",
    "    else:\n",
    "        player2 += (len(s)-i)\n",
    "\n",
    "scores = {'Kevin': player1, 'Stuart': player2}\n",
    "\n",
    "top = max(scores.items())\n",
    "print(f'{top[0]} {top[1]}')\n",
    "\n"
   ]
  },
  {
   "cell_type": "code",
   "execution_count": null,
   "metadata": {},
   "outputs": [
    {
     "name": "stdout",
     "output_type": "stream",
     "text": [
      "dict_values([9, 12, 12])\n",
      "Stuart 12\n"
     ]
    }
   ],
   "source": [
    "#MINION PROBLEM \n",
    "vowels = set('AEIOU')\n",
    "player1, player2 = 0,0\n",
    "word = 'BANANA'\n",
    "for i, c in enumerate(word):\n",
    "    if c in vowels:\n",
    "        player1 += len(word) - i\n",
    "    else:\n",
    "       player2 += len(word) - i\n",
    "\n",
    "player3 = 12\n",
    "#MISSING A DRAW\n",
    "\n",
    "scores = {'Kevin': player1, 'Stuart': player2, 'Sample': player3}\n",
    "print(scores.values())\n",
    "\n",
    "top = max(scores.items())\n",
    "print(f'{top[0]} {top[1]}')\n",
    "\n",
    "#if player1 >= player2: Kevin, player1\n",
    "#elif player2 >= player2: Stuart, player2 \n",
    "#else Draw\n"
   ]
  },
  {
   "cell_type": "code",
   "execution_count": null,
   "metadata": {},
   "outputs": [],
   "source": [
    "listy = [-4, 3, -9, 0, 4, 1]\n",
    "arr = []\n"
   ]
  },
  {
   "cell_type": "code",
   "execution_count": null,
   "metadata": {},
   "outputs": [
    {
     "name": "stdout",
     "output_type": "stream",
     "text": [
      "0.333333\n",
      "0.500000\n",
      "0.166667\n"
     ]
    }
   ],
   "source": [
    "\n",
    "neg, pos, zoro = 0,0,0\n",
    "n = len(listy)\n",
    "for i, j in enumerate(listy):\n",
    "    if j < 0:\n",
    "        neg += 1\n",
    "    elif j > 0: \n",
    "        pos += 1\n",
    "    elif j == 0:\n",
    "        zoro += 1\n",
    "        #ratios \n",
    "\n",
    "#get values \n",
    "things = [neg, pos, zoro]\n",
    "\n",
    "for ele in things:\n",
    "    print(\"{:.6f}\".format(ele/n))\n"
   ]
  },
  {
   "cell_type": "code",
   "execution_count": null,
   "metadata": {},
   "outputs": [],
   "source": [
    "neg, pos, zoro = 0,0,0\n",
    "n=len(listy)\n",
    "\n",
    "for i in listy:\n",
    "    if i < 0:\n",
    "        neg += 1\n",
    "    elif i > 0: \n",
    "        pos += 1\n",
    "    elif i == 0:\n",
    "        zoro += 1\n",
    "\n",
    "things = [pos, neg, zoro]\n",
    "\n",
    "for ele in things:\n",
    "    print(\"{:.6f}\".format(ele/n))"
   ]
  },
  {
   "cell_type": "code",
   "execution_count": null,
   "metadata": {},
   "outputs": [
    {
     "name": "stdout",
     "output_type": "stream",
     "text": [
      "10 14\n"
     ]
    }
   ],
   "source": [
    "listy = [1,2,3,4,5]\n",
    "\n",
    "# min_arr = listy\n",
    "# max_arr = listy\n",
    "\n",
    "# min_arr.remove(max(min_arr))\n",
    "# min_sum = sum(min_arr)\n",
    "\n",
    "# print(max_arr)\n",
    "# max_arr.remove(min(max_arr))\n",
    "# print(max_arr)\n",
    "# max_sum = sum(max_arr)\n",
    "\n",
    "# print(min_sum, max_sum)\n",
    "\n",
    "min_arr = sum(arr)-max(arr)\n",
    "max_arr = sum(arr)-min(arr)\n",
    "\n",
    "print(min_arr, max_arr)"
   ]
  },
  {
   "cell_type": "code",
   "execution_count": null,
   "metadata": {},
   "outputs": [],
   "source": [
    "import time\n",
    "s = '07:05:45PM'\n",
    "time.strptime(s, \"%d\")\n"
   ]
  },
  {
   "cell_type": "code",
   "execution_count": null,
   "metadata": {},
   "outputs": [
    {
     "name": "stdout",
     "output_type": "stream",
     "text": [
      "03:05:45\n"
     ]
    }
   ],
   "source": [
    "s = '03:05:45AM'\n",
    "res = int(s[:2]) % 12\n",
    "if s[-2] == \"P\":\n",
    "    res += 12\n",
    "print(f'{res:02}{s[2:-2]}')"
   ]
  },
  {
   "cell_type": "code",
   "execution_count": null,
   "metadata": {},
   "outputs": [],
   "source": [
    "l1 = [[i, j, k] for i in range(x+1) for j in range(y+1) for k in range(z+1) if i +j +k != n] \n",
    "print(l1)"
   ]
  },
  {
   "cell_type": "code",
   "execution_count": 17,
   "metadata": {},
   "outputs": [
    {
     "data": {
      "text/plain": [
       "5"
      ]
     },
     "execution_count": 17,
     "metadata": {},
     "output_type": "execute_result"
    }
   ],
   "source": [
    "listy = [2, 3, 6, 6, 5]\n",
    "listy.sort()\n",
    "runner_up = listy.pop(listy.index(max(listy))-1)\n",
    "runner_up"
   ]
  },
  {
   "cell_type": "code",
   "execution_count": 75,
   "metadata": {},
   "outputs": [
    {
     "ename": "AttributeError",
     "evalue": "'list' object has no attribute 'rank'",
     "output_type": "error",
     "traceback": [
      "\u001b[0;31m---------------------------------------------------------------------------\u001b[0m",
      "\u001b[0;31mAttributeError\u001b[0m                            Traceback (most recent call last)",
      "Cell \u001b[0;32mIn [75], line 2\u001b[0m\n\u001b[1;32m      1\u001b[0m listy \u001b[39m=\u001b[39m [\u001b[39m2\u001b[39m, \u001b[39m3\u001b[39m, \u001b[39m6\u001b[39m, \u001b[39m6\u001b[39m, \u001b[39m5\u001b[39m]\n\u001b[0;32m----> 2\u001b[0m listy\u001b[39m.\u001b[39;49mrank()\n",
      "\u001b[0;31mAttributeError\u001b[0m: 'list' object has no attribute 'rank'"
     ]
    }
   ],
   "source": [
    "listy = [2, 3, 6, 6, 5]\n",
    "listy"
   ]
  },
  {
   "cell_type": "code",
   "execution_count": 111,
   "metadata": {},
   "outputs": [],
   "source": [
    "n=5\n",
    "students = [['Harry', 37.21], ['Berry', 37.21], ['Tina', 37.2], ['Akriti', 41], ['Harsh', 39]]"
   ]
  },
  {
   "cell_type": "code",
   "execution_count": 34,
   "metadata": {},
   "outputs": [],
   "source": [
    "name, score = students[0][0:2]"
   ]
  },
  {
   "cell_type": "code",
   "execution_count": 112,
   "metadata": {},
   "outputs": [],
   "source": [
    "n = []\n",
    "s = []\n",
    "for i in range(len(students)):\n",
    "    name, score= students[i][0:2]\n",
    "    n.append(name) \n",
    "    s.append(score)"
   ]
  },
  {
   "cell_type": "code",
   "execution_count": 115,
   "metadata": {},
   "outputs": [
    {
     "name": "stdout",
     "output_type": "stream",
     "text": [
      "Berry\n",
      "Harry\n"
     ]
    }
   ],
   "source": [
    "def myfunc(d_element):\n",
    "    return d_element['score']\n",
    "    \n",
    "filterscore = sorted(list(set(s)))\n",
    "secminscore = filterscore[1]\n",
    "    \n",
    "scores_list = [{'student': n[i] , 'score': float(s[i])} for i in range(5)]\n",
    "scores_list.sort(key=myfunc)\n",
    "\n",
    "name_list = []    \n",
    "for i in range(len(scores_list)):\n",
    "    if scores_list[i]['score'] == secminscore:\n",
    "        name_list.append(scores_list[i]['student'])\n",
    "    else: \n",
    "        pass\n",
    "\n",
    "for element in sorted(name_list):\n",
    "    print(element)"
   ]
  },
  {
   "cell_type": "code",
   "execution_count": 106,
   "metadata": {},
   "outputs": [
    {
     "name": "stdout",
     "output_type": "stream",
     "text": [
      "Harry\n",
      "Berry\n"
     ]
    }
   ],
   "source": [
    "def myfunc(d_element):\n",
    "    return d_element['score']\n",
    "    \n",
    "filterscore = sorted(list(set(score)))\n",
    "secminscore = filterscore[1]\n",
    "    \n",
    "scores_list = [{'student': name[i] , 'score': float(score[i])} for i in range(len(n))]\n",
    "scores_list.sort(key=myfunc)\n",
    "    \n",
    "for i in range(len(scores_list)):\n",
    "    if scores_list[i]['score'] == secminscore:\n",
    "        print(scores_list[i]['student'])\n",
    "    else: \n",
    "        pass"
   ]
  },
  {
   "cell_type": "code",
   "execution_count": 61,
   "metadata": {},
   "outputs": [],
   "source": [
    "def havesomefun(element1, element2)->dict:\n",
    "    return {'name': element1, 'score': element2}\n",
    "\n",
    "c_list = map(havesomefun, tuple(name), tuple(score))\n",
    "list(c_list)"
   ]
  },
  {
   "cell_type": "code",
   "execution_count": 70,
   "metadata": {},
   "outputs": [],
   "source": [
    "def myfunc(d_element):\n",
    "    return d_element['score']"
   ]
  },
  {
   "cell_type": "code",
   "execution_count": null,
   "metadata": {},
   "outputs": [],
   "source": [
    "d = dict(students)\n",
    "print(min(d.values()))\n",
    "\n",
    "d.remove(min(d.values()))"
   ]
  },
  {
   "cell_type": "code",
   "execution_count": null,
   "metadata": {},
   "outputs": [],
   "source": [
    "import re\n",
    "\n",
    "path = 'Store-20200405-0302.csv'\n",
    "\n",
    "rematch = re.search(r'\\d+', path)\n",
    "\n",
    "#print(rematch.group())"
   ]
  },
  {
   "cell_type": "code",
   "execution_count": null,
   "metadata": {},
   "outputs": [],
   "source": [
    "l1 = [1,2]\n",
    "l2 = [3,4]\n",
    "l1 += l2"
   ]
  },
  {
   "cell_type": "code",
   "execution_count": null,
   "metadata": {},
   "outputs": [
    {
     "data": {
      "text/plain": [
       "[1, 2, 3, 4]"
      ]
     },
     "execution_count": 75,
     "metadata": {},
     "output_type": "execute_result"
    }
   ],
   "source": [
    "l1 = [1,2]\n",
    "l2 = [3,4]\n",
    "[*l1, *l2]"
   ]
  },
  {
   "cell_type": "code",
   "execution_count": null,
   "metadata": {},
   "outputs": [],
   "source": [
    "l1 = [1,2]\n",
    "l2 = [3,4]\n",
    "l1.extend(l2)"
   ]
  },
  {
   "cell_type": "code",
   "execution_count": 1,
   "metadata": {},
   "outputs": [
    {
     "ename": "NameError",
     "evalue": "name 'x' is not defined",
     "output_type": "error",
     "traceback": [
      "\u001b[0;31m---------------------------------------------------------------------------\u001b[0m",
      "\u001b[0;31mNameError\u001b[0m                                 Traceback (most recent call last)",
      "Cell \u001b[0;32mIn [1], line 1\u001b[0m\n\u001b[0;32m----> 1\u001b[0m l1 \u001b[39m=\u001b[39m [[i, j, k] \u001b[39mfor\u001b[39;00m i \u001b[39min\u001b[39;00m \u001b[39mrange\u001b[39m(x\u001b[39m+\u001b[39m\u001b[39m1\u001b[39m) \u001b[39mfor\u001b[39;00m j \u001b[39min\u001b[39;00m \u001b[39mrange\u001b[39m(y\u001b[39m+\u001b[39m\u001b[39m1\u001b[39m) \u001b[39mfor\u001b[39;00m k \u001b[39min\u001b[39;00m \u001b[39mrange\u001b[39m(z\u001b[39m+\u001b[39m\u001b[39m1\u001b[39m) \u001b[39mif\u001b[39;00m i \u001b[39m+\u001b[39mj \u001b[39m+\u001b[39mk \u001b[39m!=\u001b[39m n] \n\u001b[1;32m      2\u001b[0m \u001b[39mprint\u001b[39m(l1)\n",
      "\u001b[0;31mNameError\u001b[0m: name 'x' is not defined"
     ]
    }
   ],
   "source": [
    "l1 = [[i, j, k] for i in range(x+1) for j in range(y+1) for k in range(z+1) if i +j +k != n] \n",
    "print(l1)"
   ]
  },
  {
   "cell_type": "code",
   "execution_count": null,
   "metadata": {},
   "outputs": [],
   "source": [
    " path = 'Store-20200405-0302.csv'\n",
    " date_extract = path.split(\"/\")[-1].split(\"-\")[1]"
   ]
  },
  {
   "cell_type": "code",
   "execution_count": null,
   "metadata": {},
   "outputs": [],
   "source": [
    "#input examples\n",
    "if __name__ == '__main__':\n",
    "    n = int(input())\n",
    "    student_marks = {}\n",
    "    for _ in range(n):\n",
    "        name, *line = input().split()\n",
    "        scores = list(map(float, line))\n",
    "        student_marks[name] = scores\n",
    "    query_name = input()\n",
    "\n",
    "\"\"\"\n",
    "Sample Input\n",
    "3\n",
    "Krishna 67 68 69\n",
    "Arjun 70 98 63\n",
    "Malika 52 56 60\n",
    "Malika \"\"\""
   ]
  },
  {
   "cell_type": "code",
   "execution_count": null,
   "metadata": {},
   "outputs": [],
   "source": [
    "#!/bin/python3\n",
    "\n",
    "import math\n",
    "import os\n",
    "import random\n",
    "import re\n",
    "import sys\n",
    "\n",
    "#\n",
    "# Complete the 'timeConversion' function below.\n",
    "#\n",
    "# The function is expected to return a STRING.\n",
    "# The function accepts STRING s as parameter.\n",
    "#\n",
    "\n",
    "def timeConversion(s):\n",
    "    # Write your code here\n",
    "    pm_pattern = r'[PM]{2}$'\n",
    "    hh_pattern = r'^[0-9]{2}'\n",
    "    \n",
    "    if re.match(pm_pattern, s):\n",
    "        s_list = list(s)\n",
    "        s_hh_list = s_list[:2]\n",
    "        s_hh_int = int(''.join(s_hh_list))\n",
    "        s_hh_int = s_hh_int + 12\n",
    "        s_hh_list.pop([:2])\n",
    "\n",
    "if __name__ == '__main__':\n",
    "    fptr = open(os.environ['OUTPUT_PATH'], 'w')\n",
    "\n",
    "    s = input()\n",
    "\n",
    "    result = timeConversion(s)\n",
    "\n",
    "    fptr.write(result + '\\n')\n",
    "\n",
    "    fptr.close()"
   ]
  }
 ],
 "metadata": {
  "kernelspec": {
   "display_name": "Python 3.10.8 ('.venv': venv)",
   "language": "python",
   "name": "python3"
  },
  "language_info": {
   "codemirror_mode": {
    "name": "ipython",
    "version": 3
   },
   "file_extension": ".py",
   "mimetype": "text/x-python",
   "name": "python",
   "nbconvert_exporter": "python",
   "pygments_lexer": "ipython3",
   "version": "3.10.8"
  },
  "orig_nbformat": 4,
  "vscode": {
   "interpreter": {
    "hash": "e63abec8a2296cd470583be7190501ff979f2d8bea38233488c6d470e4b11929"
   }
  }
 },
 "nbformat": 4,
 "nbformat_minor": 2
}
