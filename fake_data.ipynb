{
 "cells": [
  {
   "cell_type": "code",
   "execution_count": 24,
   "metadata": {},
   "outputs": [],
   "source": [
    "from faker import Faker\n",
    "from faker.providers import DynamicProvider\n",
    "import csv\n",
    "import polars as pl"
   ]
  },
  {
   "cell_type": "code",
   "execution_count": 4,
   "metadata": {},
   "outputs": [],
   "source": [
    "#Create Faker generating instance\n",
    "fake = Faker()"
   ]
  },
  {
   "cell_type": "code",
   "execution_count": 5,
   "metadata": {},
   "outputs": [],
   "source": [
    "#Creating new random assignment manufacturers and skus to add to faker generated accounts\n",
    "manufacturer= DynamicProvider(\n",
    "     provider_name=\"tire_manufacturer\",\n",
    "     elements=[\"Michelin\", \"Yokohama\", \"Perelli\", \"Hercules\", \"Goodyear\"],\n",
    ")\n",
    "\n",
    "sku= DynamicProvider(\n",
    "     provider_name=\"tire_sku\",\n",
    "     elements=[\"afkj98459\", \"ggjr54983\", \"sdjhfds84838\", \"sdfj384df\", \"jskf345\"],\n",
    ")\n",
    "\n",
    "# Adding new provider to faker instance\n",
    "fake.add_provider(manufacturer)\n",
    "fake.add_provider(sku)"
   ]
  },
  {
   "cell_type": "code",
   "execution_count": 6,
   "metadata": {},
   "outputs": [],
   "source": [
    "#Class object of Record - extensible with more field names and methods, callable in other module\n",
    "class Record:\n",
    "    def __init__(self, **kwargs):\n",
    "        self.first_name = fake.first_name()\n",
    "        self.last_name = fake.last_name()\n",
    "        self.address = fake.street_address()\n",
    "        self.city = fake.city()\n",
    "        self.state = fake.state()\n",
    "        self.zip = fake.zipcode()\n",
    "        self.manufacturer = fake.tire_manufacturer()\n",
    "        self.sku = fake.tire_sku()\n",
    "        self.units_sold = fake.random_int(0,100)\n",
    "        "
   ]
  },
  {
   "cell_type": "code",
   "execution_count": 17,
   "metadata": {},
   "outputs": [],
   "source": [
    "records = Record()"
   ]
  },
  {
   "cell_type": "code",
   "execution_count": 22,
   "metadata": {},
   "outputs": [],
   "source": [
    "all_records = [Record().__dict__ for i in range(1000)]"
   ]
  },
  {
   "cell_type": "code",
   "execution_count": 25,
   "metadata": {},
   "outputs": [],
   "source": [
    "df = pl.DataFrame(all_records)"
   ]
  },
  {
   "cell_type": "code",
   "execution_count": null,
   "metadata": {},
   "outputs": [],
   "source": [
    "df"
   ]
  },
  {
   "cell_type": "code",
   "execution_count": 46,
   "metadata": {},
   "outputs": [],
   "source": [
    "#Writing to file as csv to read into project\n",
    "csv_file = 'fake_records.csv'\n",
    "try:\n",
    "    with open(csv_file, 'w') as file:\n",
    "        csv_columns = [key for key in all_records[0].keys()]\n",
    "        write_file = csv.DictWriter(file, csv_columns)\n",
    "        write_file.writeheader()\n",
    "        for record in all_records:\n",
    "            write_file.writerows(all_records)\n",
    "except BaseException as err:\n",
    "    print(f\"{err=}\")"
   ]
  }
 ],
 "metadata": {
  "kernelspec": {
   "display_name": "Python 3.10.8 ('.venv': venv)",
   "language": "python",
   "name": "python3"
  },
  "language_info": {
   "codemirror_mode": {
    "name": "ipython",
    "version": 3
   },
   "file_extension": ".py",
   "mimetype": "text/x-python",
   "name": "python",
   "nbconvert_exporter": "python",
   "pygments_lexer": "ipython3",
   "version": "3.10.8"
  },
  "orig_nbformat": 4,
  "vscode": {
   "interpreter": {
    "hash": "e63abec8a2296cd470583be7190501ff979f2d8bea38233488c6d470e4b11929"
   }
  }
 },
 "nbformat": 4,
 "nbformat_minor": 2
}
