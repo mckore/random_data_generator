{
 "cells": [
  {
   "cell_type": "code",
   "execution_count": null,
   "metadata": {},
   "outputs": [],
   "source": [
    "import yaml\n",
    "import glob \n",
    "\n",
    "all_list = glob.glob(\"./vendor/*.yaml\")\n",
    "\n",
    "all_list\n",
    "for file in all_list:\n",
    "    print(file)"
   ]
  },
  {
   "cell_type": "code",
   "execution_count": null,
   "metadata": {},
   "outputs": [],
   "source": [
    "import requests\n",
    "from datetime import datetime\n",
    "#import csv \n",
    "import time\n",
    "import polars as pl\n",
    "import json"
   ]
  },
  {
   "cell_type": "code",
   "execution_count": null,
   "metadata": {},
   "outputs": [],
   "source": [
    "with open(all_list[0], \"r\") as vendor_file:\n",
    "   a = yaml.safe_load(vendor_file)"
   ]
  },
  {
   "cell_type": "code",
   "execution_count": null,
   "metadata": {},
   "outputs": [],
   "source": [
    "class T:\n",
    "    @staticmethod\n",
    "    def load_vendor_data(file_path: str) -> dict:\n",
    "        with open(file_path, \"r\") as vendor_file:\n",
    "            print(yaml.safe_load(vendor_file))"
   ]
  },
  {
   "cell_type": "code",
   "execution_count": null,
   "metadata": {},
   "outputs": [],
   "source": [
    "def load_vendor_data(file_path: str) -> dict:\n",
    "        with open(file_path, \"r\") as vendor_file:\n",
    "            print(yaml.safe_load(vendor_file))"
   ]
  },
  {
   "cell_type": "code",
   "execution_count": null,
   "metadata": {},
   "outputs": [],
   "source": [
    "T.load_vendor_data(\"./vendor/tire-guru.yaml\")"
   ]
  },
  {
   "cell_type": "code",
   "execution_count": null,
   "metadata": {},
   "outputs": [],
   "source": [
    "db_inserts_list = [a for file in all_list load_vendor_data(file)]\n",
    "b = [T.load_vendor_data(file) for file in all_list]\n",
    "b = list(map(lambda x: x, load_vendor_data()))"
   ]
  },
  {
   "cell_type": "code",
   "execution_count": null,
   "metadata": {},
   "outputs": [],
   "source": [
    "file_path = './Store_20220913_mockfile.csv'"
   ]
  },
  {
   "cell_type": "code",
   "execution_count": null,
   "metadata": {},
   "outputs": [],
   "source": [
    "def zip_fill(zip_code: str) -> str:\n",
    "    return str(zip_code).zfill(5)"
   ]
  },
  {
   "cell_type": "code",
   "execution_count": null,
   "metadata": {},
   "outputs": [],
   "source": [
    "'''\n",
    "#dtypes = {col_df:pl.Utf8 for col_df in store_df.columns}\n",
    "#utf8 to fill null -> need to look at import as more difficult to save string vs cat datatype\n",
    "\n",
    "Fill by value\n",
    "df.select(\n",
    "    [\n",
    "        pl.exclude('Age'),\n",
    "        pl.col('Age').fill_null(fill_value=0)\n",
    "    ]\n",
    ")'''"
   ]
  },
  {
   "cell_type": "code",
   "execution_count": null,
   "metadata": {},
   "outputs": [],
   "source": [
    "dtypes = {\n",
    "'Company_ID':pl.Utf8,\n",
    " 'Store_ID':pl.Utf8,\n",
    " 'Company_Name':pl.Utf8,\n",
    " 'Company_Contact_First_Name':pl.Utf8,\n",
    " 'Company_Contact_Last_Name':pl.Utf8,\n",
    " 'Company_Contact_Email':pl.Utf8,\n",
    " 'Company_Contact_Phone_Number':pl.Utf8,\n",
    " 'Company_Contact_Mobile_Number':pl.Utf8,\n",
    " 'Company_Address1':pl.Utf8,\n",
    " 'Company_Address2':pl.Utf8,\n",
    " 'Company_Address3':pl.Utf8,\n",
    " 'Company_City':pl.Utf8,\n",
    " 'Company_State':pl.Utf8,\n",
    " 'Company_PostalCode':pl.Utf8,\n",
    " 'Company_Country_Code':pl.Utf8,\n",
    " 'Store_type':pl.Utf8,\n",
    " 'Store_Name':pl.Utf8,\n",
    " 'Store_Contact':pl.Utf8,\n",
    " 'Store_Address1':pl.Utf8,\n",
    " 'Store_Address2':pl.Utf8,\n",
    " 'Store_Address3':pl.Utf8,\n",
    " 'Store_City':pl.Utf8,\n",
    " 'Store_State':pl.Utf8,\n",
    " 'Store_PostalCode':pl.Utf8,\n",
    " 'Store_Country_Code':pl.Utf8,\n",
    " 'Number_of_Locations':pl.Utf8,\n",
    " 'Store_API_Key':pl.Utf8,\n",
    " 'Saas_Agreement_Signed_Date':pl.Utf8,\n",
    " 'Signed_By':pl.Utf8,\n",
    " }"
   ]
  },
  {
   "cell_type": "code",
   "execution_count": null,
   "metadata": {},
   "outputs": [],
   "source": [
    "store_df = pl.read_csv(file_path, dtypes=dtypes)\n",
    "#.fill_null(\"DEFAULT\")\n",
    "store_df2 = store_df.select([pl.all().cast(pl.Categorical)])\n",
    "#read_csv.lazy for non local storage\n",
    "#Dict[str,str] to map default values"
   ]
  },
  {
   "cell_type": "code",
   "execution_count": null,
   "metadata": {},
   "outputs": [],
   "source": [
    "store_df.get_columns([\"Company_ID\", \"Signed_By\"])\n",
    "store_df.rows(by_predicate=(pl.col(\"Signed_By\").is_nan()))\n"
   ]
  },
  {
   "cell_type": "code",
   "execution_count": null,
   "metadata": {},
   "outputs": [],
   "source": [
    "store_3 = store_df.filter(pl.col(\"Signed_By\").is_null())\n",
    "store_3"
   ]
  },
  {
   "cell_type": "code",
   "execution_count": null,
   "metadata": {},
   "outputs": [],
   "source": [
    "store_3 = store_df2.filter(store_df2.select(pl.all().exclude([\"Company_ID\", \"Signed_By\"])) == \"DEFAULT\")\n",
    "store_3.collect()"
   ]
  },
  {
   "cell_type": "code",
   "execution_count": null,
   "metadata": {},
   "outputs": [],
   "source": [
    "store_df2.select(pl.col(\"Saas_Agreement_Signed_Date\")).is_null()\n",
    "good_store = store_df.filter()"
   ]
  },
  {
   "cell_type": "code",
   "execution_count": null,
   "metadata": {},
   "outputs": [],
   "source": [
    "company_group = [\n",
    "    'Company_ID',\n",
    "    'Company_Name',\n",
    "    'Company_Contact_First_Name',\n",
    "    'Company_Contact_Last_Name',\n",
    "    'Company_Contact_Email',\n",
    "    'Company_Contact_Phone_Number',\n",
    "    'Company_Contact_Mobile_Number',\n",
    "    'Company_Address1',\n",
    "    # 'Company_Address2',\n",
    "    # 'Company_Address3',\n",
    "    'Company_City',\n",
    "    'Company_State',\n",
    "    'Company_PostalCode',\n",
    "    'Company_Country_Code',\n",
    "    'Number_of_Locations',\n",
    "    'Signed_By',\n",
    "    'Saas_Agreement_Signed_Date'\n",
    "]\n",
    "\n",
    "store_group = [\n",
    "'Store_ID'\n",
    "'Store_type',\n",
    " 'Store_Name',\n",
    " 'Store_Contact',\n",
    " 'Store_Address1',\n",
    " 'Store_Address2',\n",
    " 'Store_Address3',\n",
    " 'Store_City',\n",
    " 'Store_State',\n",
    " 'Store_PostalCode',\n",
    " 'Store_Country_Code',\n",
    "#  'Number_of_Locations',\n",
    " 'Store_API_Key',\n",
    "]\n"
   ]
  },
  {
   "cell_type": "code",
   "execution_count": null,
   "metadata": {},
   "outputs": [],
   "source": [
    "lead_df = (store_df2\n",
    "           .lazy()\n",
    "           .groupby(company_group)\n",
    "           .agg(\n",
    "                [(pl.col('Store_ID')),\n",
    "                 (pl.col('Store_ID').count()).alias('Store_Count')\n",
    "                ]\n",
    "           )\n",
    "        ).collect()\n",
    "#lead_df.collect()"
   ]
  },
  {
   "cell_type": "code",
   "execution_count": null,
   "metadata": {},
   "outputs": [],
   "source": [
    "lead_df.filter(pl.col('Number_of_Locations')== 'DEFAULT')\\\n",
    "       .replace('Number_of_Locations', lead_df.select(pl.col('Store_Count')).to_series())"
   ]
  },
  {
   "cell_type": "code",
   "execution_count": null,
   "metadata": {},
   "outputs": [],
   "source": [
    "lead_df.select(pl.col('Company_PostalCode').first())\n",
    "lead_df.select(\n",
    "    [\n",
    "        pl.exclude('Company_PostalCode'),\n",
    "        pl.col('Company_PostalCode').apply(zip_fill)\n",
    "    ]\n",
    ")"
   ]
  },
  {
   "cell_type": "code",
   "execution_count": null,
   "metadata": {},
   "outputs": [],
   "source": [
    "store_df.select([pl.col(\"Company_Contact_First_Name\").sort().head(2)])"
   ]
  }
 ],
 "metadata": {
  "language_info": {
   "name": "python"
  },
  "orig_nbformat": 4
 },
 "nbformat": 4,
 "nbformat_minor": 2
}
