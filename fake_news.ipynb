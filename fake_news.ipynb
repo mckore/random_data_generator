{
 "cells": [
  {
   "cell_type": "code",
   "execution_count": 1,
   "metadata": {},
   "outputs": [],
   "source": [
    "from faker import Faker\n",
    "from faker.providers import DynamicProvider\n",
    "import csv"
   ]
  },
  {
   "cell_type": "code",
   "execution_count": 2,
   "metadata": {},
   "outputs": [],
   "source": [
    "#Create Faker generating instance\n",
    "fake = Faker()"
   ]
  },
  {
   "cell_type": "code",
   "execution_count": 3,
   "metadata": {},
   "outputs": [],
   "source": [
    "#Creating new random assignment manufacturers and skus to add to faker generated accounts\n",
    "manufacturer= DynamicProvider(\n",
    "     provider_name=\"tire_manufacturer\",\n",
    "     elements=[\"Michelin\", \"Yokohama\", \"Perelli\", \"Hercules\", \"Goodyear\"],\n",
    ")\n",
    "\n",
    "sku= DynamicProvider(\n",
    "     provider_name=\"tire_sku\",\n",
    "     elements=[\"afkj98459\", \"ggjr54983\", \"sdjhfds84838\", \"sdfj384df\", \"jskf345\"],\n",
    ")\n",
    "\n",
    "# Adding new provider to faker instance\n",
    "fake.add_provider(manufacturer)\n",
    "fake.add_provider(sku)"
   ]
  },
  {
   "cell_type": "code",
   "execution_count": 4,
   "metadata": {},
   "outputs": [],
   "source": [
    "#Class object of Record - extensible with more field names and methods, callable in other module\n",
    "class Record:\n",
    "    def __init__(self, **kwargs):\n",
    "        self.first_name = fake.first_name()\n",
    "        self.last_name = fake.last_name()\n",
    "        self.address = fake.street_address()\n",
    "        self.city = fake.city()\n",
    "        self.state = fake.state()\n",
    "        self.zip = fake.zipcode()\n",
    "        self.manufacturer = fake.tire_manufacturer()\n",
    "        self.sku = fake.tire_sku()\n",
    "        self.units_sold = fake.random_int(0,100)\n",
    "        "
   ]
  },
  {
   "cell_type": "code",
   "execution_count": 6,
   "metadata": {},
   "outputs": [],
   "source": [
    "#Empty lists to capture record dictionary from Record opbjects\n",
    "all_records = []\n",
    "\n",
    "#Loop creating 100 random records and adding to capture list\n",
    "for i in range(100):\n",
    "    records = Record()\n",
    "    all_records.append(records.__dict__)"
   ]
  },
  {
   "cell_type": "code",
   "execution_count": 46,
   "metadata": {},
   "outputs": [],
   "source": [
    "#Writing to file as csv to read into project\n",
    "csv_file = 'fake_records.csv'\n",
    "try:\n",
    "    with open(csv_file, 'w') as file:\n",
    "        csv_columns = [key for key in all_records[0].keys()]\n",
    "        write_file = csv.DictWriter(file, csv_columns)\n",
    "        write_file.writeheader()\n",
    "        for record in all_records:\n",
    "            write_file.writerows(all_records)\n",
    "except BaseException as err:\n",
    "    print(f\"{err=}\")"
   ]
  }
 ],
 "metadata": {
  "interpreter": {
   "hash": "cf1aff20cd45a0f8a306902a3284c1faac7cf5677ae6bfd76ea1652ce9b0d088"
  },
  "kernelspec": {
   "display_name": "Python 3.9.10 ('.venv': venv)",
   "language": "python",
   "name": "python3"
  },
  "language_info": {
   "codemirror_mode": {
    "name": "ipython",
    "version": 3
   },
   "file_extension": ".py",
   "mimetype": "text/x-python",
   "name": "python",
   "nbconvert_exporter": "python",
   "pygments_lexer": "ipython3",
   "version": "3.9.10"
  },
  "orig_nbformat": 4
 },
 "nbformat": 4,
 "nbformat_minor": 2
}
